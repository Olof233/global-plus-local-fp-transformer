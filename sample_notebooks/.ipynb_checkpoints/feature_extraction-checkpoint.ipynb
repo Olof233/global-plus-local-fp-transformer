{
 "cells": [
  {
   "cell_type": "markdown",
   "id": "c3da04aa",
   "metadata": {},
   "source": [
    "## Setup imports"
   ]
  },
  {
   "cell_type": "code",
   "execution_count": null,
   "id": "19869299",
   "metadata": {},
   "outputs": [],
   "source": [
    "import os\n",
    "import os.path as osp\n",
    "import sys\n",
    "from __future__ import absolute_import\n",
    "def add_path(path):\n",
    "    if path not in sys.path:\n",
    "        sys.path.insert(0, path)\n",
    "this_dir = osp.dirname('.')\n",
    "lib_path = osp.join(this_dir, '..', 'lib')\n",
    "add_path(lib_path)\n",
    "add_path(osp.join(this_dir, '..'))"
   ]
  },
  {
   "cell_type": "code",
   "execution_count": null,
   "id": "8ed9007e",
   "metadata": {},
   "outputs": [],
   "source": [
    "from models import build_model\n",
    "from config import config\n",
    "from config import _update_config_from_file\n",
    "from dataset import build_dataloader\n",
    "from core.function import only_forward\n",
    "from metrics import global_metrics"
   ]
  },
  {
   "cell_type": "code",
   "execution_count": null,
   "id": "439afd53",
   "metadata": {},
   "outputs": [],
   "source": [
    "import torch\n",
    "import matplotlib.pyplot as plt\n",
    "from PIL import Image\n",
    "import numpy as np\n",
    "import copy"
   ]
  },
  {
   "cell_type": "markdown",
   "id": "c89fc129",
   "metadata": {},
   "source": [
    "## Set the config\n",
    "- Go to the required config file and set the DATASET.VAL_IMGS field to the path of the data folder you want embeddings for."
   ]
  },
  {
   "cell_type": "code",
   "execution_count": null,
   "id": "595a47cd",
   "metadata": {},
   "outputs": [],
   "source": [
    "# for only global model use:\n",
    "# model_file = '../models/global.pth'\n",
    "# _update_config_from_file(config, '..\\experiments\\global-inference.yaml')\n",
    "\n",
    "# for only local model use:\n",
    "# model_file = '../models/local.pth'\n",
    "# _update_config_from_file(config, '..\\experiments\\local-inference.yaml')\n",
    "\n",
    "# for global + local model use:\n",
    "model_file = '../models/global_plus_local.pth'\n",
    "_update_config_from_file(config, '..\\experiments\\global_plus_local-inference.yaml')"
   ]
  },
  {
   "cell_type": "markdown",
   "id": "b68469fd",
   "metadata": {},
   "source": [
    "## Setup the model"
   ]
  },
  {
   "cell_type": "code",
   "execution_count": null,
   "id": "45940e72",
   "metadata": {
    "scrolled": true
   },
   "outputs": [],
   "source": [
    "model = build_model(config)"
   ]
  },
  {
   "cell_type": "code",
   "execution_count": null,
   "id": "8a2bcb81",
   "metadata": {},
   "outputs": [],
   "source": [
    "state_dict = torch.load(model_file, map_location=\"cpu\")\n",
    "model.load_state_dict(state_dict, strict=True)\n",
    "model.to(torch.device('cuda'))\n",
    "model"
   ]
  },
  {
   "cell_type": "markdown",
   "id": "899fff22",
   "metadata": {},
   "source": [
    "## Setup the dataloader"
   ]
  },
  {
   "cell_type": "code",
   "execution_count": null,
   "id": "a3cb0ba4",
   "metadata": {},
   "outputs": [],
   "source": [
    "valid_loader = build_dataloader(config, False)"
   ]
  },
  {
   "cell_type": "markdown",
   "id": "f8936d46",
   "metadata": {},
   "source": [
    "## Forward pass"
   ]
  },
  {
   "cell_type": "code",
   "execution_count": null,
   "id": "4bcaab04",
   "metadata": {
    "scrolled": true
   },
   "outputs": [],
   "source": [
    "results = only_forward(config, valid_loader, model)"
   ]
  },
  {
   "cell_type": "code",
   "execution_count": null,
   "id": "e8005aad",
   "metadata": {},
   "outputs": [],
   "source": [
    "if 'global' in results.keys():\n",
    "    print(\"Model generated Global embeddings with shape:\", results['global'].shape)\n",
    "if 'posori' in results.keys():\n",
    "    print(\"Model performed Minutiae extraction with shape:\", results['posori'].shape)\n",
    "if 'embs' in results.keys():\n",
    "    print(\"Model generated corresponding Minutiae embeddings with shape:\", results['embs'].shape)"
   ]
  },
  {
   "cell_type": "markdown",
   "id": "8dfe6d33",
   "metadata": {},
   "source": [
    "## Visualisations"
   ]
  },
  {
   "cell_type": "code",
   "execution_count": null,
   "id": "a921fb8e",
   "metadata": {},
   "outputs": [],
   "source": [
    "if 'global' in results.keys():\n",
    "    plt.matshow(results['global'][:min(50, results['global'].shape[0]), :10])\n",
    "    plt.title('Global Embeddings')\n",
    "    plt.colorbar()\n",
    "    plt.show()"
   ]
  },
  {
   "cell_type": "code",
   "execution_count": null,
   "id": "3625c9a1",
   "metadata": {
    "scrolled": true
   },
   "outputs": [],
   "source": [
    "# run this only if the model is predicting local information\n",
    "l = 15\n",
    "for i in range(min(10, len(valid_loader.dataset.imgs))):\n",
    "    path = valid_loader.dataset.imgs[i]\n",
    "    img = Image.open(path).convert('RGB')\n",
    "    img = valid_loader.dataset.transforms(img)[0]\n",
    "    plt.imshow(img, cmap='gray')\n",
    "    mnts = copy.deepcopy(results['posori'][i])\n",
    "    mnts[:, 0] *= img.shape[0]\n",
    "    mnts[:, 1] *= img.shape[1]\n",
    "    mnts[:, 2] *= 2 * np.pi\n",
    "    plt.scatter(mnts[:, 0], mnts[:, 1], color='red', s=30, alpha=0.75)\n",
    "    for i in range(mnts.shape[0]):\n",
    "        plt.plot((mnts[i, 0], mnts[i, 0] + l * np.cos(2*np.pi-mnts[i, 2])), (mnts[i, 1], mnts[i, 1] + l * np.sin(2*np.pi-mnts[i, 2])), color='red', alpha=0.75)\n",
    "        plt.title(path)\n",
    "    plt.show()"
   ]
  },
  {
   "cell_type": "code",
   "execution_count": null,
   "id": "d9bf74cb",
   "metadata": {},
   "outputs": [],
   "source": []
  },
  {
   "cell_type": "code",
   "execution_count": null,
   "id": "69b16682",
   "metadata": {},
   "outputs": [],
   "source": []
  }
 ],
 "metadata": {
  "kernelspec": {
   "display_name": "Python 3 (ipykernel)",
   "language": "python",
   "name": "python3"
  },
  "language_info": {
   "codemirror_mode": {
    "name": "ipython",
    "version": 3
   },
   "file_extension": ".py",
   "mimetype": "text/x-python",
   "name": "python",
   "nbconvert_exporter": "python",
   "pygments_lexer": "ipython3",
   "version": "3.8.8"
  }
 },
 "nbformat": 4,
 "nbformat_minor": 5
}
